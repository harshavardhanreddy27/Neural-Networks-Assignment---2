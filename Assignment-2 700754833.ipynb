{
  "nbformat": 4,
  "nbformat_minor": 0,
  "metadata": {
    "colab": {
      "provenance": []
    },
    "kernelspec": {
      "name": "python3",
      "display_name": "Python 3"
    },
    "language_info": {
      "name": "python"
    }
  },
  "cells": [
    {
      "cell_type": "markdown",
      "source": [
        "### Question 1A:Takes two strings from the user: first_name, last_name. Pass these variables to fullname function that return fullname"
      ],
      "metadata": {
        "id": "Cm_9Cz7ZwiPq"
      }
    },
    {
      "cell_type": "code",
      "execution_count": 36,
      "metadata": {
        "id": "gzkc6QrmLHZM"
      },
      "outputs": [],
      "source": [
        "def fullname(first_name, last_name):\n",
        "    return first_name + \" \" + last_name"
      ]
    },
    {
      "cell_type": "code",
      "source": [
        "first_name = input(\"Enter your first name: \")\n",
        "last_name = input(\"Enter your last name: \")"
      ],
      "metadata": {
        "colab": {
          "base_uri": "https://localhost:8080/"
        },
        "id": "f80cSqqRLJGC",
        "outputId": "ec9ddccc-3787-46b9-9cf9-b50b002aa7c4"
      },
      "execution_count": 37,
      "outputs": [
        {
          "name": "stdout",
          "output_type": "stream",
          "text": [
            "Enter your first name: Harsha\n",
            "Enter your last name: Vardhan\n"
          ]
        }
      ]
    },
    {
      "cell_type": "code",
      "source": [
        "full_name = fullname(first_name, last_name)\n",
        "print(\"Your full name is:\", full_name)"
      ],
      "metadata": {
        "colab": {
          "base_uri": "https://localhost:8080/"
        },
        "id": "s84DSSfeLRvz",
        "outputId": "13096e10-f0b8-4f59-df4d-4fb254f488f4"
      },
      "execution_count": 38,
      "outputs": [
        {
          "output_type": "stream",
          "name": "stdout",
          "text": [
            "Your full name is: Harsha Vardhan\n"
          ]
        }
      ]
    },
    {
      "cell_type": "markdown",
      "source": [
        "### Question1B Printing the Alternative characters in a word\n"
      ],
      "metadata": {
        "id": "m1rOd7n7ykr3"
      }
    },
    {
      "cell_type": "code",
      "source": [
        "def string_alternative(full_name):\n",
        "    return full_name[::2]\n",
        "\n",
        "full_name = \"Good Evening\"\n",
        "result = string_alternative(full_name)\n",
        "\n",
        "print(\"Input string:\", full_name)\n",
        "print(\"Output string:\", result)\n"
      ],
      "metadata": {
        "colab": {
          "base_uri": "https://localhost:8080/"
        },
        "id": "puv3esB2Lyee",
        "outputId": "b8edbd9f-6658-4d62-9062-a0ad3dec86e1"
      },
      "execution_count": 30,
      "outputs": [
        {
          "output_type": "stream",
          "name": "stdout",
          "text": [
            "Input string: Good Evening\n",
            "Output string: Go vnn\n"
          ]
        }
      ]
    },
    {
      "cell_type": "markdown",
      "source": [
        "### Question 2: Python program to find the wordcount in a file (input.txt) for each line and then print the output in Output.txt file"
      ],
      "metadata": {
        "id": "4PKhpzasw_2-"
      }
    },
    {
      "cell_type": "code",
      "source": [
        "number_of_words = 0\n",
        "with open('input.txt', 'r') as file:\n",
        "    content = file.read()\n",
        "    print(content)"
      ],
      "metadata": {
        "colab": {
          "base_uri": "https://localhost:8080/"
        },
        "id": "5f2H1oAGMqTw",
        "outputId": "94b1f3c4-c6f7-45e8-f19e-5a347f5cec5c"
      },
      "execution_count": 15,
      "outputs": [
        {
          "output_type": "stream",
          "name": "stdout",
          "text": [
            "Neural Networks\n",
            "Deep \n",
            "learning\n"
          ]
        }
      ]
    },
    {
      "cell_type": "code",
      "source": [
        "number_of_words = 0\n",
        "word_count = {}\n",
        "\n",
        "with open('input.txt', 'r') as file:\n",
        "    content = file.read()\n",
        "    words = content.split()\n",
        "\n",
        "    for word in words:\n",
        "        word = word.strip().lower()\n",
        "        word_count[word] = word_count.get(word, 0) + 1\n",
        "        number_of_words += 1\n",
        "\n",
        "print(f\"Total Number of Words: {number_of_words}\")\n",
        "\n",
        "for word, count in word_count.items():\n",
        "    print(f'{word}: {count}')\n"
      ],
      "metadata": {
        "colab": {
          "base_uri": "https://localhost:8080/"
        },
        "id": "ZcWt-MKZN-xw",
        "outputId": "d082c60c-97f9-47e5-85ec-166ed96262cc"
      },
      "execution_count": 31,
      "outputs": [
        {
          "output_type": "stream",
          "name": "stdout",
          "text": [
            "Total Number of Words: 4\n",
            "neural: 1\n",
            "networks: 1\n",
            "deep: 1\n",
            "learning: 1\n"
          ]
        }
      ]
    },
    {
      "cell_type": "code",
      "source": [
        "with open('output.txt', 'w') as output_file:\n",
        "    print(f\"Total Number of Words: {number_of_words}\", file=output_file)\n",
        "\n",
        "    for word, count in word_count.items():\n",
        "        print(f'{word}: {count}', file=output_file)"
      ],
      "metadata": {
        "id": "i_9ZX0uZQOwU"
      },
      "execution_count": 22,
      "outputs": []
    },
    {
      "cell_type": "markdown",
      "source": [
        "### Question 3: Which reads heights (inches.) of customers into a list and convert these heights to centimeters in a separate list using:1) Nested Interactive loop. 2) List comprehensions"
      ],
      "metadata": {
        "id": "Xqlo1y-zxXnS"
      }
    },
    {
      "cell_type": "code",
      "source": [
        "def convert_to_cm_nested(heights_inches):\n",
        "    heights_cm = []\n",
        "    for height in heights_inches:\n",
        "        height_cm = height * 2.54\n",
        "        heights_cm.append(round(height_cm, 2))\n",
        "    return heights_cm\n",
        "\n",
        "# 1) Using List Comprehensions\n",
        "def convert_to_cm_list_comprehension(heights_inches):\n",
        "    return [round(height * 2.54, 2) for height in heights_inches]\n",
        "# 2) Using Nested Loop\n",
        "def main():\n",
        "    heights_inches = []\n",
        "\n",
        "    input_str = input(\"Enter heights in inches separated by commas: \")\n",
        "\n",
        "    try:\n",
        "        heights_inches = [float(height) for height in input_str.split(',')]\n",
        "    except ValueError:\n",
        "        print(\"Invalid input. Please enter valid numbers separated by commas.\")\n",
        "        return\n",
        "\n",
        "\n",
        "    heights_cm_nested = convert_to_cm_nested(heights_inches)\n",
        "\n",
        "\n",
        "    heights_cm_list_comp = convert_to_cm_list_comprehension(heights_inches)\n",
        "\n",
        "    print(\"\\nHeights in Inches:\", heights_inches)\n",
        "    print(\"Heights in Centimeters (Using Nested Loop):\", heights_cm_nested)\n",
        "    print(\"Heights in Centimeters (Using List Comprehension):\", heights_cm_list_comp)\n",
        "\n",
        "if __name__ == \"__main__\":\n",
        "    main()\n"
      ],
      "metadata": {
        "id": "2tniYTYrTE77",
        "colab": {
          "base_uri": "https://localhost:8080/"
        },
        "outputId": "c89bb075-9c51-400d-9613-cd71c2ae2359"
      },
      "execution_count": 32,
      "outputs": [
        {
          "output_type": "stream",
          "name": "stdout",
          "text": [
            "Enter heights in inches separated by commas: 143,123\n",
            "\n",
            "Heights in Inches: [143.0, 123.0]\n",
            "Heights in Centimeters (Using Nested Loop): [363.22, 312.42]\n",
            "Heights in Centimeters (Using List Comprehension): [363.22, 312.42]\n"
          ]
        }
      ]
    },
    {
      "cell_type": "code",
      "source": [],
      "metadata": {
        "id": "qq03c5gkUy1S"
      },
      "execution_count": null,
      "outputs": []
    }
  ]
}